{
 "cells": [
  {
   "cell_type": "code",
   "execution_count": 2,
   "metadata": {},
   "outputs": [],
   "source": [
    "import pytesseract\n",
    "pytesseract.pytesseract.tesseract_cmd=r\"C:\\Program Files\\Tesseract-OCR\\tesseract\""
   ]
  },
  {
   "cell_type": "code",
   "execution_count": 3,
   "metadata": {},
   "outputs": [],
   "source": [
    "import cv2\n",
    "img=cv2.imread(r\"C:\\Users\\91745\\Desktop\\ocr\\IMG_5512.jpeg\")"
   ]
  },
  {
   "cell_type": "code",
   "execution_count": 4,
   "metadata": {},
   "outputs": [],
   "source": [
    "txt=pytesseract.image_to_string(img)"
   ]
  },
  {
   "cell_type": "code",
   "execution_count": 6,
   "metadata": {},
   "outputs": [],
   "source": [
    "l=txt.split(\"\\n\")"
   ]
  },
  {
   "cell_type": "code",
   "execution_count": 23,
   "metadata": {},
   "outputs": [
    {
     "data": {
      "text/plain": [
       "''"
      ]
     },
     "execution_count": 23,
     "metadata": {},
     "output_type": "execute_result"
    }
   ],
   "source": [
    "\n",
    "from fpdf import FPDF\n",
    "\n",
    "# save FPDF() class into\n",
    "# a variable pdf\n",
    "pdf = FPDF()\n",
    "\n",
    "# Add a page\n",
    "pdf.add_page()\n",
    "\n",
    "# set style and size of font\n",
    "# that you want in the pdf\n",
    "pdf.set_font(\"Arial\", size = 10)\n",
    "\n",
    "for k in l:\n",
    "    pdf.cell(150, 8, txt = k, ln = 1, align = 'C')\n",
    "pdf.output(\"image5.pdf\")\n"
   ]
  },
  {
   "cell_type": "code",
   "execution_count": 10,
   "metadata": {},
   "outputs": [
    {
     "name": "stdout",
     "output_type": "stream",
     "text": [
      "875r 7 tuytd  ib65rt ytf 75r67 ytf\n",
      "\n",
      "\n",
      "\n",
      "b6v5rt 67r7 6tiou yr76yuiyh\n"
     ]
    },
    {
     "data": {
      "text/plain": [
       "''"
      ]
     },
     "execution_count": 10,
     "metadata": {},
     "output_type": "execute_result"
    }
   ],
   "source": [
    "# Python program to convert\n",
    "# text file to pdf file\n",
    "\n",
    "\n",
    "from fpdf import FPDF\n",
    "\n",
    "# save FPDF() class into\n",
    "# a variable pdf\n",
    "pdf = FPDF()\n",
    "\n",
    "# Add a page\n",
    "pdf.add_page()\n",
    "\n",
    "# set style and size of font\n",
    "# that you want in the pdf\n",
    "pdf.set_font(\"Arial\", size = 15)\n",
    "\n",
    "# open the text file in read mode\n",
    "f = open(\"myfile.txt\", \"r\")\n",
    "\n",
    "# insert the texts in pdf\n",
    "for x in f:\n",
    "\tprint(x)\n",
    "\tpdf.cell(200, 10, txt = x, ln = 1, align = 'C')\n",
    "\n",
    "# save the pdf with name .pdf\n",
    "pdf.output(\"mygfg.pdf\")\n"
   ]
  }
 ],
 "metadata": {
  "kernelspec": {
   "display_name": "Python 3",
   "language": "python",
   "name": "python3"
  },
  "language_info": {
   "codemirror_mode": {
    "name": "ipython",
    "version": 3
   },
   "file_extension": ".py",
   "mimetype": "text/x-python",
   "name": "python",
   "nbconvert_exporter": "python",
   "pygments_lexer": "ipython3",
   "version": "3.9.0"
  },
  "orig_nbformat": 4
 },
 "nbformat": 4,
 "nbformat_minor": 2
}
